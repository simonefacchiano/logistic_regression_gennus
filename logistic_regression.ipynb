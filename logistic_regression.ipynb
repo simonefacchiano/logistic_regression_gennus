{
 "cells": [
  {
   "attachments": {},
   "cell_type": "markdown",
   "metadata": {},
   "source": [
    "# Logistic Regression"
   ]
  },
  {
   "cell_type": "code",
   "execution_count": 1,
   "metadata": {},
   "outputs": [],
   "source": [
    "import torch\n",
    "import tqdm\n",
    "import seaborn as sns\n",
    "import matplotlib.pyplot  as plt\n",
    "import os\n",
    "import numpy as np\n",
    "from sklearn import linear_model, decomposition, datasets\n",
    "from sklearn.pipeline import Pipeline\n",
    "from sklearn.model_selection import GridSearchCV\n",
    "from sklearn.preprocessing import StandardScaler\n",
    "import random \n",
    "from sklearn.decomposition import PCA\n",
    "from sklearn import metrics\n",
    "from sklearn.model_selection import cross_val_score\n",
    "import pandas as pd\n",
    "from sklearn.linear_model import LogisticRegression"
   ]
  },
  {
   "cell_type": "code",
   "execution_count": 2,
   "metadata": {},
   "outputs": [],
   "source": [
    "DATASET_SIZE = \"xs\"\n",
    "DATASET_TYPE = \"waveform\"\n",
    "\n",
    "DATASET_FOLDER = f\"./data/{DATASET_TYPE}\"\n",
    "\n",
    "DATASET_NUM_SAMPLES_PER_SECOND = 8000\n",
    "DATASET_NUM_CHANNELS = 1\n",
    "\n",
    "DATASET_NAME = f\"fma_{DATASET_SIZE}_resampled_{DATASET_NUM_SAMPLES_PER_SECOND}_rechanneled_{DATASET_NUM_CHANNELS}\"\n",
    "\n",
    "dataset_path = f\"{DATASET_FOLDER}/{DATASET_NAME}\""
   ]
  },
  {
   "cell_type": "code",
   "execution_count": 4,
   "metadata": {},
   "outputs": [],
   "source": [
    "audio_path_list = []\n",
    "\n",
    "for path, subdirs, files in os.walk(dataset_path):\n",
    "    for name in files:\n",
    "        file_audio_path = os.path.join(path, name)\n",
    "        if name != '.DS_Store':\n",
    "            audio_path_list.append(file_audio_path)\n",
    "\n",
    "audio_path_list = sorted(audio_path_list , reverse= True) "
   ]
  },
  {
   "cell_type": "code",
   "execution_count": 6,
   "metadata": {},
   "outputs": [],
   "source": [
    "single_tensors = []\n",
    "labels = []\n",
    "for p in audio_path_list:\n",
    "    single_tensors.append(torch.load(p))\n",
    "    labels.append(p.split(\"/\")[-2])\n",
    "stacked_single_tensors = torch.cat(single_tensors).numpy()"
   ]
  },
  {
   "cell_type": "code",
   "execution_count": 7,
   "metadata": {},
   "outputs": [],
   "source": [
    "data = pd.DataFrame(stacked_single_tensors)\n",
    "data.insert(0, \"Label\", labels, True)"
   ]
  },
  {
   "cell_type": "code",
   "execution_count": 79,
   "metadata": {},
   "outputs": [],
   "source": [
    "def train_test_split( dataset , perc_train , set_seed = 69):\n",
    "    train = dataset.sample(frac= perc_train,random_state = set_seed )\n",
    "    test  = dataset.drop(train.index)\n",
    "    return (train , test )\n",
    "#####   \n",
    "train_dataset , test_dataset = train_test_split( data , perc_train = .85)"
   ]
  },
  {
   "cell_type": "code",
   "execution_count": null,
   "metadata": {},
   "outputs": [],
   "source": [
    "X = train_dataset.iloc[: , 1:]      # ALL THE DATA POINTS\n",
    "y = train_dataset.iloc[: , :1]      # ALL THE LABELS\n",
    "\n",
    "std_slc = StandardScaler()          # STANDARDIZE\n",
    "\n",
    "pca = decomposition.PCA()           # PCA\n",
    "\n",
    "logistic_Reg = linear_model.LogisticRegression()    # LINEAR REGRESSION\n",
    "\n",
    "### \n",
    "pipe = Pipeline(steps=[('std_slc', std_slc),\n",
    "                ('pca', pca),\n",
    "                ('logistic_Reg', logistic_Reg)])\n",
    "\n",
    "\n",
    "n_components = list(range( int(.01 * X.shape[0]) ,  int(.25 * X.shape[0]) , 1))    # NUMBER OF PCA WE TEST\n",
    "# WE TRIED DIFFERENTS COMBINATIONS AND WE ENDED UP DISCOVERING THAT FEW PRINCIPAL COMPONENTS WERE ENOUGH\n",
    "# WE NOW TEST ONLY ON THE FIRST 25% OF THE POSSIBLE NUMBER OF PC's.\n",
    "\n",
    "C = [2., 20.]      # NUMBER OF C VALUE WE TEST\n",
    "\n",
    "penalty = ['l1', 'l2']    # PENALTY WE TEST\n",
    "\n",
    "# COMBINE ALL IN A DICTIONARY\n",
    "parameters = dict(pca__n_components=n_components,\n",
    "                    logistic_Reg__C=C,\n",
    "                    logistic_Reg__penalty=penalty)\n"
   ]
  },
  {
   "cell_type": "code",
   "execution_count": null,
   "metadata": {},
   "outputs": [],
   "source": [
    "### RUN THE KFOLD CROSS VALIDATION TO DISCOVER THE BEST HYPERPARAMETERS\n",
    "clf = GridSearchCV(pipe, parameters, n_jobs=2, verbose=3, cv=3)\n",
    "clf.fit(X, y)"
   ]
  },
  {
   "cell_type": "code",
   "execution_count": null,
   "metadata": {},
   "outputs": [
    {
     "name": "stdout",
     "output_type": "stream",
     "text": [
      "Best Penalty: l2\n",
      "Best C: 2.0\n",
      "Best Number Of Components: 52\n",
      "\n",
      "LogisticRegression(C=2.0)\n"
     ]
    }
   ],
   "source": [
    "print('Best Penalty:', clf.best_estimator_.get_params()['logistic_Reg__penalty'])\n",
    "print('Best C:', clf.best_estimator_.get_params()['logistic_Reg__C'])\n",
    "print('Best Number Of Components:', clf.best_estimator_.get_params()['pca__n_components'])\n",
    "print(); print(clf.best_estimator_.get_params()['logistic_Reg'])"
   ]
  },
  {
   "cell_type": "code",
   "execution_count": null,
   "metadata": {},
   "outputs": [],
   "source": [
    "# WE DON'T KNOW WHY IS HERE\n",
    "#CV_result = cross_val_score(clf , X , y , cv = 3 , n_jobs=2, verbose=3)"
   ]
  },
  {
   "attachments": {},
   "cell_type": "markdown",
   "metadata": {},
   "source": [
    "## Run the Logistcics regression with the best hyperparameters"
   ]
  },
  {
   "cell_type": "code",
   "execution_count": null,
   "metadata": {},
   "outputs": [],
   "source": [
    "X_train = train_dataset.iloc[: , 1:]      # ALL THE DATA POINTS for the training set \n",
    "y_train = train_dataset.iloc[: , :1]      # ALL THE LABELSfor the training set \n",
    "\n",
    "X_test =  test_dataset.iloc[: , 1:]       # ALL THE DATA POINTS for the test set \n",
    "y_test =  test_dataset.iloc[: , :1]       # ALL THE LABELS for the test set\n",
    "\n",
    "# [TODO]  do not arcoding but with the best hyperparameter\n",
    "\n",
    "pca = PCA(n_components= 11)               # PCA with the best number of components\n",
    "X_train_pca =  pd.DataFrame(pca.fit_transform(X_train))   # Transform the train dataset in pc\n",
    "X_test_pca  =  pd.DataFrame(pca.fit_transform(X_test ))   # Transform the test  dataset in pc\n",
    "\n",
    "### RUN THE LOGISTIC REGRESSION\n",
    "\n",
    "logistic = LogisticRegression(penalty= 'l2'  , C = 2)\n",
    "logistic.fit( X_train_pca  , y_train )\n",
    "\n",
    "### TEST THE MODEL\n",
    "LogisticPredictions = logistic.predict( X_test_pca )"
   ]
  },
  {
   "cell_type": "code",
   "execution_count": 143,
   "metadata": {},
   "outputs": [
    {
     "name": "stdout",
     "output_type": "stream",
     "text": [
      "The accuracy of the logistic model is: 21%\n"
     ]
    }
   ],
   "source": [
    "Logistic_Accuracy = logistic.score(  X_test_pca , y_test ) \n",
    "Logistic_Accuracy =\"{: .0%}\".format(Logistic_Accuracy)\n",
    "print(f\"The accuracy of the logistic model is:{Logistic_Accuracy}\")"
   ]
  },
  {
   "cell_type": "code",
   "execution_count": 159,
   "metadata": {},
   "outputs": [
    {
     "data": {
      "image/png": "[encoded data removed]",
      "text/plain": [
       "<Figure size 864x720 with 2 Axes>"
      ]
     },
     "metadata": {
      "needs_background": "light"
     },
     "output_type": "display_data"
    }
   ],
   "source": [
    "### CONFUSION MATRIX\n",
    "confusion = metrics.confusion_matrix( y_test , LogisticPredictions)\n",
    "plt.figure(figsize=(12,10))\n",
    "sns.heatmap(confusion , annot= True , fmt = 'd' , cmap= \"viridis\")\n",
    "plt.xlabel(\"Recognized Genres\")\n",
    "plt.ylabel(\"Actual Genre\")\n",
    "plt.show()"
   ]
  },
  {
   "attachments": {},
   "cell_type": "markdown",
   "metadata": {},
   "source": [
    "---\n",
    "MEL SPECTROGRAM\n",
    "\n",
    "---\n"
   ]
  },
  {
   "cell_type": "code",
   "execution_count": 41,
   "metadata": {},
   "outputs": [],
   "source": [
    "DATASET_SIZE = \"xs\"\n",
    "DATASET_TYPE = \"mel_spectrograms\"\n",
    "\n",
    "DATASET_FOLDER = f\"./data/{DATASET_TYPE}\"\n",
    "\n",
    "DATASET_NUM_SAMPLES_PER_SECOND = 8000\n",
    "DATASET_NUM_CHANNELS = 1\n",
    "\n",
    "DATASET_NAME = f\"fma_{DATASET_SIZE}_resampled_{DATASET_NUM_SAMPLES_PER_SECOND}_rechanneled_{DATASET_NUM_CHANNELS}\"\n",
    "\n",
    "dataset_path = f\"{DATASET_FOLDER}/{DATASET_NAME}\""
   ]
  },
  {
   "cell_type": "code",
   "execution_count": 52,
   "metadata": {},
   "outputs": [],
   "source": [
    "## WE HAVE CHANGED THE FILE NAME\n",
    "audio_path_list = []\n",
    "\n",
    "for path, subdirs, files in os.walk(dataset_path):\n",
    "    for name in files:\n",
    "        file_audio_path = os.path.join(path, name)\n",
    "        if name != '.DS_Store':\n",
    "            audio_path_list.append(file_audio_path)\n",
    "\n",
    "audio_path_list = sorted(audio_path_list , reverse= True) "
   ]
  },
  {
   "cell_type": "code",
   "execution_count": 64,
   "metadata": {},
   "outputs": [],
   "source": [
    "single_tensors_mel = []\n",
    "labels_mel = []\n",
    "for p in audio_path_list:\n",
    "    single_tensors_mel.append(torch.load(p))\n",
    "    labels_mel.append(p.split(\"/\")[-2])\n",
    "stacked_single_tensors_mel = torch.cat(single_tensors_mel).numpy()"
   ]
  },
  {
   "cell_type": "code",
   "execution_count": 72,
   "metadata": {},
   "outputs": [],
   "source": [
    "a = stacked_single_tensors_mel.reshape(90 , 128 * 1860 )"
   ]
  },
  {
   "cell_type": "code",
   "execution_count": 73,
   "metadata": {},
   "outputs": [
    {
     "data": {
      "text/plain": [
       "(90, 238080)"
      ]
     },
     "execution_count": 73,
     "metadata": {},
     "output_type": "execute_result"
    }
   ],
   "source": [
    "data_mel = pd.DataFrame(a)\n",
    "data_mel.insert(0, \"Label\", labels_mel, True)"
   ]
  },
  {
   "cell_type": "code",
   "execution_count": 189,
   "metadata": {},
   "outputs": [],
   "source": [
    "data_train_mel , data_test_mel = train_test_split(data_mel , perc_train= 0.78)"
   ]
  },
  {
   "cell_type": "code",
   "execution_count": null,
   "metadata": {},
   "outputs": [],
   "source": [
    "X_train_mel = data_train_mel.iloc[: , 1:] # ALL THE DATA POINTS for the training set \n",
    "y_train_mel = data_train_mel.iloc[: , :1]  # ALL THE LABELSfor the training set \n",
    "\n",
    "\n",
    "X_test_mel =  data_test_mel.iloc[: , 1:]       # ALL THE DATA POINTS for the test set \n",
    "y_test_mel =  data_test_mel.iloc[: , :1]       # ALL THE LABELS for the test set\n",
    "\n",
    "\n",
    "\n",
    "\n",
    "pca = PCA(n_components= 3)               # PCA with the best number of components\n",
    "X_train_pca_mel =  pd.DataFrame(pca.fit_transform(X_train_mel))   # Transform the train dataset in pc\n",
    "X_test_pca_mel  =  pd.DataFrame(pca.fit_transform(X_test_mel ))   # Transform the test  dataset in pc\n",
    "\n",
    "\n",
    "logistic = LogisticRegression(penalty= 'l2'  , C = 2)\n",
    "logistic.fit( X_train_pca_mel  , y_train_mel )\n",
    "\n",
    "### TEST THE MODEL\n",
    "LogisticPredictions = logistic.predict( X_test_pca_mel )\n",
    "\n",
    "\n",
    "Logistic_Accuracy = logistic.score(  X_test_pca_mel , y_test_mel ) \n",
    "Logistic_Accuracy =\"{: .0%}\".format(Logistic_Accuracy)\n",
    "print(f\"The accuracy of the logistic model is:{Logistic_Accuracy}\")"
   ]
  },
  {
   "cell_type": "code",
   "execution_count": null,
   "metadata": {},
   "outputs": [],
   "source": [
    "## [TODO] Nice plots"
   ]
  }
 ],
 "metadata": {
  "kernelspec": {
   "display_name": "base",
   "language": "python",
   "name": "python3"
  },
  "language_info": {
   "codemirror_mode": {
    "name": "ipython",
    "version": 3
   },
   "file_extension": ".py",
   "mimetype": "text/x-python",
   "name": "python",
   "nbconvert_exporter": "python",
   "pygments_lexer": "ipython3",
   "version": "3.9.12"
  },
  "orig_nbformat": 4,
  "vscode": {
   "interpreter": {
    "hash": "f4667d31aad76a2fc6367a343b03ad539ee0fdcfaae0637945dddaa0789b3d6c"
   }
  }
 },
 "nbformat": 4,
 "nbformat_minor": 2
}
