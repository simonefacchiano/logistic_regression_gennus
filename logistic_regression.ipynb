{
 "cells": [
  {
   "attachments": {},
   "cell_type": "markdown",
   "metadata": {},
   "source": [
    "# Logistic Regression"
   ]
  },
  {
   "cell_type": "code",
   "execution_count": 151,
   "metadata": {},
   "outputs": [],
   "source": [
    "import torch\n",
    "import tqdm\n",
    "import seaborn as sns\n",
    "import matplotlib.pyplot  as plt\n",
    "import os\n",
    "import numpy as np\n",
    "from sklearn import linear_model, decomposition, datasets\n",
    "from sklearn.pipeline import Pipeline\n",
    "from sklearn.model_selection import GridSearchCV\n",
    "from sklearn.preprocessing import StandardScaler\n",
    "import random \n",
    "from sklearn.decomposition import PCA\n",
    "from sklearn import metrics\n",
    "from sklearn.model_selection import cross_val_score\n",
    "import pandas as pd\n",
    "from sklearn.linear_model import LogisticRegression"
   ]
  },
  {
   "cell_type": "code",
   "execution_count": 24,
   "metadata": {},
   "outputs": [],
   "source": [
    "DATASET_SIZE = \"xs\"\n",
    "DATASET_TYPE = \"waveform\"\n",
    "\n",
    "DATASET_FOLDER = f\"./data/{DATASET_TYPE}\"\n",
    "\n",
    "DATASET_NUM_SAMPLES_PER_SECOND = 8000\n",
    "DATASET_NUM_CHANNELS = 1\n",
    "\n",
    "DATASET_NAME = f\"fma_{DATASET_SIZE}_resampled_{DATASET_NUM_SAMPLES_PER_SECOND}_rechanneled_{DATASET_NUM_CHANNELS}\"\n",
    "\n",
    "dataset_path = f\"{DATASET_FOLDER}/{DATASET_NAME}\""
   ]
  },
  {
   "cell_type": "code",
   "execution_count": null,
   "metadata": {},
   "outputs": [],
   "source": [
    "audio_path_list = []\n",
    "\n",
    "for path, subdirs, files in os.walk(dataset_path):\n",
    "    for name in files:\n",
    "        file_audio_path = os.path.join(path, name)\n",
    "        print(file_audio_path)\n",
    "\n",
    "        if name != '.DS_Store':\n",
    "            audio_path_list.append(file_audio_path)\n",
    "\n",
    "audio_path_list = sorted(audio_path_list , reverse= True) "
   ]
  },
  {
   "cell_type": "code",
   "execution_count": null,
   "metadata": {},
   "outputs": [],
   "source": [
    "single_tensors = []\n",
    "labels = []\n",
    "for p in audio_path_list:\n",
    "    single_tensors.append(torch.load(p))\n",
    "    labels.append(p.split(\"/\")[-2])\n",
    "\n",
    "\n",
    "stacked_single_tensors = torch.cat(single_tensors).numpy()"
   ]
  },
  {
   "cell_type": "code",
   "execution_count": 115,
   "metadata": {},
   "outputs": [],
   "source": [
    "data = pd.DataFrame(stacked_single_tensors)\n",
    "data.insert(0, \"Label\", labels, True)"
   ]
  },
  {
   "cell_type": "code",
   "execution_count": 124,
   "metadata": {},
   "outputs": [],
   "source": [
    "def train_test_split( dataset , perc_train , set_seed = 69):\n",
    "    train = dataset.sample(frac= perc_train,random_state = set_seed )\n",
    "    test  = dataset.drop(train.index)\n",
    "    return (train , test )\n",
    "#####   \n",
    "train_dataset , test_dataset = train_test_split( data , perc_train = .85)"
   ]
  },
  {
   "cell_type": "code",
   "execution_count": null,
   "metadata": {},
   "outputs": [],
   "source": [
    "X = train_dataset.iloc[: , 1:]      # ALL THE DATA POINTS\n",
    "y = train_dataset.iloc[: , :1]      # ALL THE LABELS\n",
    "\n",
    "std_slc = StandardScaler()          # STANDARDIZE\n",
    "\n",
    "pca = decomposition.PCA()           # PCA\n",
    "\n",
    "logistic_Reg = linear_model.LogisticRegression()    # LINEAR REGRESSION\n",
    "\n",
    "### \n",
    "pipe = Pipeline(steps=[('std_slc', std_slc),\n",
    "                ('pca', pca),\n",
    "                ('logistic_Reg', logistic_Reg)])\n",
    "\n",
    "\n",
    "n_components = list(range( int(.01 * X.shape[0]) ,  int(.25 * X.shape[0]) , 1))    # NUMBER OF PCA WE TEST\n",
    "# WE TRIED DIFFERENTS COMBINATIONS AND WE ENDED UP DISCOVERING THAT FEW PRINCIPAL COMPONENTS WERE ENOUGH\n",
    "# WE NOW TEST ONLY ON THE FIRST 25% OF THE POSSIBLE NUMBER OF PC's.\n",
    "\n",
    "C = [2., 20.]      # NUMBER OF C VALUE WE TEST\n",
    "\n",
    "penalty = ['l1', 'l2']    # PENALTY WE TEST\n",
    "\n",
    "# COMBINE ALL IN A DICTIONARY\n",
    "parameters = dict(pca__n_components=n_components,\n",
    "                    logistic_Reg__C=C,\n",
    "                    logistic_Reg__penalty=penalty)\n"
   ]
  },
  {
   "cell_type": "code",
   "execution_count": null,
   "metadata": {},
   "outputs": [],
   "source": [
    "### RUN THE KFOLD CROSS VALIDATION TO DISCOVER THE BEST HYPERPARAMETERS\n",
    "clf = GridSearchCV(pipe, parameters, n_jobs=2, verbose=3, cv=3)\n",
    "clf.fit(X, y)"
   ]
  },
  {
   "cell_type": "code",
   "execution_count": null,
   "metadata": {},
   "outputs": [
    {
     "name": "stdout",
     "output_type": "stream",
     "text": [
      "Best Penalty: l2\n",
      "Best C: 2.0\n",
      "Best Number Of Components: 52\n",
      "\n",
      "LogisticRegression(C=2.0)\n"
     ]
    }
   ],
   "source": [
    "print('Best Penalty:', clf.best_estimator_.get_params()['logistic_Reg__penalty'])\n",
    "print('Best C:', clf.best_estimator_.get_params()['logistic_Reg__C'])\n",
    "print('Best Number Of Components:', clf.best_estimator_.get_params()['pca__n_components'])\n",
    "print(); print(clf.best_estimator_.get_params()['logistic_Reg'])"
   ]
  },
  {
   "cell_type": "code",
   "execution_count": null,
   "metadata": {},
   "outputs": [],
   "source": [
    "# WE DON'T KNOW WHY IS HERE\n",
    "#CV_result = cross_val_score(clf , X , y , cv = 3 , n_jobs=2, verbose=3)"
   ]
  },
  {
   "attachments": {},
   "cell_type": "markdown",
   "metadata": {},
   "source": [
    "## Run the Logistcics regression with the best hyperparameters"
   ]
  },
  {
   "cell_type": "code",
   "execution_count": null,
   "metadata": {},
   "outputs": [],
   "source": [
    "X_train = train_dataset.iloc[: , 1:]      # ALL THE DATA POINTS for the training set \n",
    "y_train = train_dataset.iloc[: , :1]      # ALL THE LABELSfor the training set \n",
    "\n",
    "X_test =  test_dataset.iloc[: , 1:]       # ALL THE DATA POINTS for the test set \n",
    "y_test =  test_dataset.iloc[: , :1]       # ALL THE LABELS for the test set\n",
    "\n",
    "# [TODO]  do not arcoding but with the best hyperparameter\n",
    "\n",
    "pca = PCA(n_components= 11)               # PCA with the best number of components\n",
    "X_train_pca =  pd.DataFrame(pca.fit_transform(X_train))   # Transform the train dataset in pc\n",
    "X_test_pca  =  pd.DataFrame(pca.fit_transform(X_test ))   # Transform the test  dataset in pc\n",
    "\n",
    "### RUN THE LOGISTIC REGRESSION\n",
    "\n",
    "logistic = LogisticRegression(penalty= 'l2'  , C = 2)\n",
    "logistic.fit( X_train_pca  , y_train )\n",
    "\n",
    "### TEST THE MODEL\n",
    "LogisticPredictions = logistic.predict( X_test_pca )"
   ]
  },
  {
   "cell_type": "code",
   "execution_count": 143,
   "metadata": {},
   "outputs": [
    {
     "name": "stdout",
     "output_type": "stream",
     "text": [
      "The accuracy of the logistic model is: 21%\n"
     ]
    }
   ],
   "source": [
    "Logistic_Accuracy = logistic.score(  X_test_pca , y_test ) \n",
    "Logistic_Accuracy =\"{: .0%}\".format(Logistic_Accuracy)\n",
    "print(f\"The accuracy of the logistic model is:{Logistic_Accuracy}\")"
   ]
  },
  {
   "cell_type": "code",
   "execution_count": 159,
   "metadata": {},
   "outputs": [
    {
     "data": {
      "image/png": "[encoded data removed]",
      "text/plain": [
       "<Figure size 864x720 with 2 Axes>"
      ]
     },
     "metadata": {
      "needs_background": "light"
     },
     "output_type": "display_data"
    }
   ],
   "source": [
    "### CONFUSION MATRIX\n",
    "confusion = metrics.confusion_matrix( y_test , LogisticPredictions)\n",
    "plt.figure(figsize=(12,10))\n",
    "sns.heatmap(confusion , annot= True , fmt = 'd' , cmap= \"viridis\")\n",
    "plt.xlabel(\"Recognized Genres\")\n",
    "plt.ylabel(\"Actual Genre\")\n",
    "plt.show()"
   ]
  },
  {
   "cell_type": "code",
   "execution_count": null,
   "metadata": {},
   "outputs": [],
   "source": []
  },
  {
   "cell_type": "code",
   "execution_count": null,
   "metadata": {},
   "outputs": [],
   "source": []
  },
  {
   "cell_type": "code",
   "execution_count": null,
   "metadata": {},
   "outputs": [],
   "source": []
  },
  {
   "cell_type": "code",
   "execution_count": null,
   "metadata": {},
   "outputs": [],
   "source": [
    "\n",
    " \n",
    "print('Shape before PCA: ', X.shape)\n",
    "print('Shape after PCA: ', pca_features.shape)"
   ]
  },
  {
   "cell_type": "code",
   "execution_count": null,
   "metadata": {},
   "outputs": [],
   "source": [
    "import matplotlib.pyplot as plt \n",
    "\n",
    "plt.rcParams[\"figure.figsize\"] = (12,8)\n",
    "\n",
    "fig, ax = plt.subplots()\n",
    "xi = np.arange(1, 61, step=1)\n",
    "y = np.cumsum(pca.explained_variance_ratio_)\n",
    "\n",
    "plt.ylim(0.0,1.1)\n",
    "plt.plot(xi, y, marker='o', linestyle='-', color='red')\n",
    "\n",
    "plt.xlabel('Number of Components')\n",
    "plt.xticks(np.arange(1, 61, step=1), rotation = 90) \n",
    "plt.ylabel('Cumulative variance (%)')\n",
    "plt.title('The number of components needed to explain variance')\n",
    "\n",
    "plt.axhline(y=0.7, color='darkgreen', linestyle='--')\n",
    "plt.text(1.1, 1, '70% cut-off threshold', color = 'darkgreen', fontsize=16)\n",
    "\n",
    "ax.grid()\n",
    "plt.tight_layout()\n",
    "plt.show()"
   ]
  },
  {
   "cell_type": "code",
   "execution_count": 36,
   "metadata": {},
   "outputs": [
    {
     "data": {
      "text/html": [
       "<div>\n",
       "<style scoped>\n",
       "    .dataframe tbody tr th:only-of-type {\n",
       "        vertical-align: middle;\n",
       "    }\n",
       "\n",
       "    .dataframe tbody tr th {\n",
       "        vertical-align: top;\n",
       "    }\n",
       "\n",
       "    .dataframe thead th {\n",
       "        text-align: right;\n",
       "    }\n",
       "</style>\n",
       "<table border=\"1\" class=\"dataframe\">\n",
       "  <thead>\n",
       "    <tr style=\"text-align: right;\">\n",
       "      <th></th>\n",
       "      <th>0</th>\n",
       "      <th>1</th>\n",
       "      <th>2</th>\n",
       "      <th>3</th>\n",
       "      <th>4</th>\n",
       "      <th>5</th>\n",
       "      <th>6</th>\n",
       "      <th>7</th>\n",
       "      <th>8</th>\n",
       "      <th>9</th>\n",
       "      <th>...</th>\n",
       "      <th>237990</th>\n",
       "      <th>237991</th>\n",
       "      <th>237992</th>\n",
       "      <th>237993</th>\n",
       "      <th>237994</th>\n",
       "      <th>237995</th>\n",
       "      <th>237996</th>\n",
       "      <th>237997</th>\n",
       "      <th>237998</th>\n",
       "      <th>237999</th>\n",
       "    </tr>\n",
       "  </thead>\n",
       "  <tbody>\n",
       "    <tr>\n",
       "      <th>9</th>\n",
       "      <td>0.008234</td>\n",
       "      <td>0.010684</td>\n",
       "      <td>0.003508</td>\n",
       "      <td>0.002686</td>\n",
       "      <td>-0.001900</td>\n",
       "      <td>0.001159</td>\n",
       "      <td>-0.000374</td>\n",
       "      <td>-0.003358</td>\n",
       "      <td>0.003079</td>\n",
       "      <td>-0.001310</td>\n",
       "      <td>...</td>\n",
       "      <td>-0.203883</td>\n",
       "      <td>-0.437538</td>\n",
       "      <td>-0.513192</td>\n",
       "      <td>-0.509520</td>\n",
       "      <td>-0.464054</td>\n",
       "      <td>-0.262243</td>\n",
       "      <td>0.100966</td>\n",
       "      <td>0.051868</td>\n",
       "      <td>0.126681</td>\n",
       "      <td>0.202008</td>\n",
       "    </tr>\n",
       "    <tr>\n",
       "      <th>20</th>\n",
       "      <td>0.000242</td>\n",
       "      <td>0.000148</td>\n",
       "      <td>0.000029</td>\n",
       "      <td>0.000122</td>\n",
       "      <td>0.000174</td>\n",
       "      <td>-0.000082</td>\n",
       "      <td>-0.000124</td>\n",
       "      <td>0.000156</td>\n",
       "      <td>-0.000041</td>\n",
       "      <td>-0.000223</td>\n",
       "      <td>...</td>\n",
       "      <td>-0.262216</td>\n",
       "      <td>-0.189099</td>\n",
       "      <td>-0.089163</td>\n",
       "      <td>-0.122821</td>\n",
       "      <td>-0.168169</td>\n",
       "      <td>-0.136992</td>\n",
       "      <td>0.008826</td>\n",
       "      <td>0.082147</td>\n",
       "      <td>0.049861</td>\n",
       "      <td>0.062775</td>\n",
       "    </tr>\n",
       "    <tr>\n",
       "      <th>22</th>\n",
       "      <td>0.004516</td>\n",
       "      <td>0.002586</td>\n",
       "      <td>-0.000504</td>\n",
       "      <td>0.002324</td>\n",
       "      <td>0.001361</td>\n",
       "      <td>0.001164</td>\n",
       "      <td>0.001756</td>\n",
       "      <td>0.002061</td>\n",
       "      <td>0.001286</td>\n",
       "      <td>-0.001631</td>\n",
       "      <td>...</td>\n",
       "      <td>-0.154083</td>\n",
       "      <td>-0.204206</td>\n",
       "      <td>-0.137308</td>\n",
       "      <td>-0.143353</td>\n",
       "      <td>-0.134408</td>\n",
       "      <td>-0.125974</td>\n",
       "      <td>-0.023337</td>\n",
       "      <td>-0.002398</td>\n",
       "      <td>-0.081676</td>\n",
       "      <td>-0.022399</td>\n",
       "    </tr>\n",
       "    <tr>\n",
       "      <th>49</th>\n",
       "      <td>0.001199</td>\n",
       "      <td>0.001048</td>\n",
       "      <td>0.003401</td>\n",
       "      <td>0.001240</td>\n",
       "      <td>0.000462</td>\n",
       "      <td>0.000892</td>\n",
       "      <td>-0.000196</td>\n",
       "      <td>-0.000868</td>\n",
       "      <td>0.001279</td>\n",
       "      <td>0.001767</td>\n",
       "      <td>...</td>\n",
       "      <td>0.015631</td>\n",
       "      <td>-0.011225</td>\n",
       "      <td>-0.002610</td>\n",
       "      <td>0.003677</td>\n",
       "      <td>0.002981</td>\n",
       "      <td>-0.013040</td>\n",
       "      <td>-0.019982</td>\n",
       "      <td>0.006720</td>\n",
       "      <td>0.035207</td>\n",
       "      <td>0.087214</td>\n",
       "    </tr>\n",
       "    <tr>\n",
       "      <th>54</th>\n",
       "      <td>0.005291</td>\n",
       "      <td>0.004534</td>\n",
       "      <td>-0.002246</td>\n",
       "      <td>-0.006056</td>\n",
       "      <td>-0.010251</td>\n",
       "      <td>-0.008787</td>\n",
       "      <td>-0.002304</td>\n",
       "      <td>0.002260</td>\n",
       "      <td>0.001732</td>\n",
       "      <td>0.003227</td>\n",
       "      <td>...</td>\n",
       "      <td>-1.013173</td>\n",
       "      <td>-0.997653</td>\n",
       "      <td>-0.932473</td>\n",
       "      <td>-0.875366</td>\n",
       "      <td>-0.887953</td>\n",
       "      <td>-0.819201</td>\n",
       "      <td>-0.735276</td>\n",
       "      <td>-0.657150</td>\n",
       "      <td>-0.716523</td>\n",
       "      <td>-0.684720</td>\n",
       "    </tr>\n",
       "    <tr>\n",
       "      <th>55</th>\n",
       "      <td>0.004482</td>\n",
       "      <td>0.003281</td>\n",
       "      <td>-0.000192</td>\n",
       "      <td>-0.002675</td>\n",
       "      <td>-0.000145</td>\n",
       "      <td>0.005437</td>\n",
       "      <td>0.002224</td>\n",
       "      <td>-0.003226</td>\n",
       "      <td>-0.003051</td>\n",
       "      <td>-0.000294</td>\n",
       "      <td>...</td>\n",
       "      <td>-0.330977</td>\n",
       "      <td>-0.526317</td>\n",
       "      <td>-0.698106</td>\n",
       "      <td>-0.871481</td>\n",
       "      <td>-1.000397</td>\n",
       "      <td>-1.104575</td>\n",
       "      <td>-1.143645</td>\n",
       "      <td>-1.102311</td>\n",
       "      <td>-1.077322</td>\n",
       "      <td>-1.000269</td>\n",
       "    </tr>\n",
       "    <tr>\n",
       "      <th>56</th>\n",
       "      <td>0.006836</td>\n",
       "      <td>0.003612</td>\n",
       "      <td>0.009416</td>\n",
       "      <td>0.010575</td>\n",
       "      <td>0.010387</td>\n",
       "      <td>0.008242</td>\n",
       "      <td>0.006145</td>\n",
       "      <td>0.006070</td>\n",
       "      <td>0.004588</td>\n",
       "      <td>0.004461</td>\n",
       "      <td>...</td>\n",
       "      <td>0.437255</td>\n",
       "      <td>0.558165</td>\n",
       "      <td>0.561081</td>\n",
       "      <td>0.572451</td>\n",
       "      <td>0.544912</td>\n",
       "      <td>0.429185</td>\n",
       "      <td>0.369773</td>\n",
       "      <td>0.284628</td>\n",
       "      <td>0.234021</td>\n",
       "      <td>0.208999</td>\n",
       "    </tr>\n",
       "    <tr>\n",
       "      <th>73</th>\n",
       "      <td>-0.000080</td>\n",
       "      <td>-0.000053</td>\n",
       "      <td>-0.000033</td>\n",
       "      <td>0.000016</td>\n",
       "      <td>0.000055</td>\n",
       "      <td>0.000064</td>\n",
       "      <td>-0.000012</td>\n",
       "      <td>-0.000041</td>\n",
       "      <td>-0.000007</td>\n",
       "      <td>-0.000029</td>\n",
       "      <td>...</td>\n",
       "      <td>0.013216</td>\n",
       "      <td>0.006755</td>\n",
       "      <td>0.002225</td>\n",
       "      <td>0.000341</td>\n",
       "      <td>-0.000879</td>\n",
       "      <td>-0.002471</td>\n",
       "      <td>-0.007369</td>\n",
       "      <td>-0.014305</td>\n",
       "      <td>-0.018592</td>\n",
       "      <td>-0.019696</td>\n",
       "    </tr>\n",
       "    <tr>\n",
       "      <th>75</th>\n",
       "      <td>0.017488</td>\n",
       "      <td>-0.009679</td>\n",
       "      <td>-0.018584</td>\n",
       "      <td>-0.017172</td>\n",
       "      <td>-0.025965</td>\n",
       "      <td>-0.002325</td>\n",
       "      <td>-0.012070</td>\n",
       "      <td>-0.021997</td>\n",
       "      <td>0.048340</td>\n",
       "      <td>0.060432</td>\n",
       "      <td>...</td>\n",
       "      <td>-0.033159</td>\n",
       "      <td>0.018963</td>\n",
       "      <td>0.024293</td>\n",
       "      <td>-0.019560</td>\n",
       "      <td>0.004781</td>\n",
       "      <td>-0.004360</td>\n",
       "      <td>0.031849</td>\n",
       "      <td>0.034502</td>\n",
       "      <td>-0.027264</td>\n",
       "      <td>0.014638</td>\n",
       "    </tr>\n",
       "  </tbody>\n",
       "</table>\n",
       "<p>9 rows × 238000 columns</p>\n",
       "</div>"
      ],
      "text/plain": [
       "      0         1         2         3         4         5         6       \\\n",
       "9   0.008234  0.010684  0.003508  0.002686 -0.001900  0.001159 -0.000374   \n",
       "20  0.000242  0.000148  0.000029  0.000122  0.000174 -0.000082 -0.000124   \n",
       "22  0.004516  0.002586 -0.000504  0.002324  0.001361  0.001164  0.001756   \n",
       "49  0.001199  0.001048  0.003401  0.001240  0.000462  0.000892 -0.000196   \n",
       "54  0.005291  0.004534 -0.002246 -0.006056 -0.010251 -0.008787 -0.002304   \n",
       "55  0.004482  0.003281 -0.000192 -0.002675 -0.000145  0.005437  0.002224   \n",
       "56  0.006836  0.003612  0.009416  0.010575  0.010387  0.008242  0.006145   \n",
       "73 -0.000080 -0.000053 -0.000033  0.000016  0.000055  0.000064 -0.000012   \n",
       "75  0.017488 -0.009679 -0.018584 -0.017172 -0.025965 -0.002325 -0.012070   \n",
       "\n",
       "      7         8         9       ...    237990    237991    237992    237993  \\\n",
       "9  -0.003358  0.003079 -0.001310  ... -0.203883 -0.437538 -0.513192 -0.509520   \n",
       "20  0.000156 -0.000041 -0.000223  ... -0.262216 -0.189099 -0.089163 -0.122821   \n",
       "22  0.002061  0.001286 -0.001631  ... -0.154083 -0.204206 -0.137308 -0.143353   \n",
       "49 -0.000868  0.001279  0.001767  ...  0.015631 -0.011225 -0.002610  0.003677   \n",
       "54  0.002260  0.001732  0.003227  ... -1.013173 -0.997653 -0.932473 -0.875366   \n",
       "55 -0.003226 -0.003051 -0.000294  ... -0.330977 -0.526317 -0.698106 -0.871481   \n",
       "56  0.006070  0.004588  0.004461  ...  0.437255  0.558165  0.561081  0.572451   \n",
       "73 -0.000041 -0.000007 -0.000029  ...  0.013216  0.006755  0.002225  0.000341   \n",
       "75 -0.021997  0.048340  0.060432  ... -0.033159  0.018963  0.024293 -0.019560   \n",
       "\n",
       "      237994    237995    237996    237997    237998    237999  \n",
       "9  -0.464054 -0.262243  0.100966  0.051868  0.126681  0.202008  \n",
       "20 -0.168169 -0.136992  0.008826  0.082147  0.049861  0.062775  \n",
       "22 -0.134408 -0.125974 -0.023337 -0.002398 -0.081676 -0.022399  \n",
       "49  0.002981 -0.013040 -0.019982  0.006720  0.035207  0.087214  \n",
       "54 -0.887953 -0.819201 -0.735276 -0.657150 -0.716523 -0.684720  \n",
       "55 -1.000397 -1.104575 -1.143645 -1.102311 -1.077322 -1.000269  \n",
       "56  0.544912  0.429185  0.369773  0.284628  0.234021  0.208999  \n",
       "73 -0.000879 -0.002471 -0.007369 -0.014305 -0.018592 -0.019696  \n",
       "75  0.004781 -0.004360  0.031849  0.034502 -0.027264  0.014638  \n",
       "\n",
       "[9 rows x 238000 columns]"
      ]
     },
     "execution_count": 36,
     "metadata": {},
     "output_type": "execute_result"
    }
   ],
   "source": [
    "test_dataset.iloc[: , 1:]"
   ]
  },
  {
   "cell_type": "code",
   "execution_count": 47,
   "metadata": {},
   "outputs": [],
   "source": [
    "pca = PCA(n_components= 7  )\n",
    "dataset_pca = pca.fit_transform(train_dataset.iloc[: , 1:])\n"
   ]
  },
  {
   "cell_type": "code",
   "execution_count": 48,
   "metadata": {},
   "outputs": [],
   "source": [
    "label = train_dataset.iloc[ : , :1 ]"
   ]
  },
  {
   "cell_type": "code",
   "execution_count": 107,
   "metadata": {},
   "outputs": [],
   "source": [
    "labels_train =[]\n",
    "for x in label.values:\n",
    "    labels_train.append(_label_from_str_to_one_hot(x[0]))\n",
    "    "
   ]
  },
  {
   "cell_type": "code",
   "execution_count": 112,
   "metadata": {},
   "outputs": [],
   "source": [
    "dataset_pca = pd.DataFrame(dataset_pca)"
   ]
  },
  {
   "cell_type": "code",
   "execution_count": null,
   "metadata": {},
   "outputs": [],
   "source": [
    "\n"
   ]
  },
  {
   "cell_type": "code",
   "execution_count": 50,
   "metadata": {},
   "outputs": [],
   "source": [
    "pca_test = PCA(n_components= 52 )\n",
    "test_dataset_pca = pca.fit_transform(test_dataset.iloc[: , 1:])"
   ]
  },
  {
   "cell_type": "code",
   "execution_count": 78,
   "metadata": {},
   "outputs": [],
   "source": [
    "lab_test = pd.get_dummies(test_dataset.iloc[ : , :1 ])"
   ]
  },
  {
   "cell_type": "code",
   "execution_count": 79,
   "metadata": {},
   "outputs": [
    {
     "data": {
      "text/html": [
       "<div>\n",
       "<style scoped>\n",
       "    .dataframe tbody tr th:only-of-type {\n",
       "        vertical-align: middle;\n",
       "    }\n",
       "\n",
       "    .dataframe tbody tr th {\n",
       "        vertical-align: top;\n",
       "    }\n",
       "\n",
       "    .dataframe thead th {\n",
       "        text-align: right;\n",
       "    }\n",
       "</style>\n",
       "<table border=\"1\" class=\"dataframe\">\n",
       "  <thead>\n",
       "    <tr style=\"text-align: right;\">\n",
       "      <th></th>\n",
       "      <th>Label_Electronic</th>\n",
       "      <th>Label_Folk</th>\n",
       "      <th>Label_Hip-Hop</th>\n",
       "      <th>Label_Pop</th>\n",
       "      <th>Label_Rock</th>\n",
       "    </tr>\n",
       "  </thead>\n",
       "  <tbody>\n",
       "    <tr>\n",
       "      <th>9</th>\n",
       "      <td>0</td>\n",
       "      <td>0</td>\n",
       "      <td>0</td>\n",
       "      <td>0</td>\n",
       "      <td>1</td>\n",
       "    </tr>\n",
       "    <tr>\n",
       "      <th>20</th>\n",
       "      <td>0</td>\n",
       "      <td>0</td>\n",
       "      <td>0</td>\n",
       "      <td>1</td>\n",
       "      <td>0</td>\n",
       "    </tr>\n",
       "    <tr>\n",
       "      <th>22</th>\n",
       "      <td>0</td>\n",
       "      <td>0</td>\n",
       "      <td>0</td>\n",
       "      <td>1</td>\n",
       "      <td>0</td>\n",
       "    </tr>\n",
       "    <tr>\n",
       "      <th>49</th>\n",
       "      <td>0</td>\n",
       "      <td>0</td>\n",
       "      <td>1</td>\n",
       "      <td>0</td>\n",
       "      <td>0</td>\n",
       "    </tr>\n",
       "    <tr>\n",
       "      <th>54</th>\n",
       "      <td>0</td>\n",
       "      <td>0</td>\n",
       "      <td>1</td>\n",
       "      <td>0</td>\n",
       "      <td>0</td>\n",
       "    </tr>\n",
       "    <tr>\n",
       "      <th>55</th>\n",
       "      <td>0</td>\n",
       "      <td>0</td>\n",
       "      <td>1</td>\n",
       "      <td>0</td>\n",
       "      <td>0</td>\n",
       "    </tr>\n",
       "    <tr>\n",
       "      <th>56</th>\n",
       "      <td>0</td>\n",
       "      <td>0</td>\n",
       "      <td>1</td>\n",
       "      <td>0</td>\n",
       "      <td>0</td>\n",
       "    </tr>\n",
       "    <tr>\n",
       "      <th>73</th>\n",
       "      <td>0</td>\n",
       "      <td>1</td>\n",
       "      <td>0</td>\n",
       "      <td>0</td>\n",
       "      <td>0</td>\n",
       "    </tr>\n",
       "    <tr>\n",
       "      <th>75</th>\n",
       "      <td>1</td>\n",
       "      <td>0</td>\n",
       "      <td>0</td>\n",
       "      <td>0</td>\n",
       "      <td>0</td>\n",
       "    </tr>\n",
       "  </tbody>\n",
       "</table>\n",
       "</div>"
      ],
      "text/plain": [
       "    Label_Electronic  Label_Folk  Label_Hip-Hop  Label_Pop  Label_Rock\n",
       "9                  0           0              0          0           1\n",
       "20                 0           0              0          1           0\n",
       "22                 0           0              0          1           0\n",
       "49                 0           0              1          0           0\n",
       "54                 0           0              1          0           0\n",
       "55                 0           0              1          0           0\n",
       "56                 0           0              1          0           0\n",
       "73                 0           1              0          0           0\n",
       "75                 1           0              0          0           0"
      ]
     },
     "execution_count": 79,
     "metadata": {},
     "output_type": "execute_result"
    }
   ],
   "source": [
    "lab_test"
   ]
  },
  {
   "cell_type": "code",
   "execution_count": 58,
   "metadata": {},
   "outputs": [
    {
     "data": {
      "text/plain": [
       "array(['Electronic', 'Jazz', 'Jazz', 'Hip-Hop', 'Hip-Hop', 'Electronic',\n",
       "       'Jazz', 'Jazz', 'Rock'], dtype=object)"
      ]
     },
     "execution_count": 58,
     "metadata": {},
     "output_type": "execute_result"
    }
   ],
   "source": [
    "logistic.predict(test_dataset_pca)\n"
   ]
  },
  {
   "cell_type": "code",
   "execution_count": 98,
   "metadata": {},
   "outputs": [],
   "source": [
    "def _label_from_str_to_one_hot(label_str: str): \n",
    "\n",
    "    if label_str == \"Pop\":\n",
    "        return [1, 0, 0, 0, 0, 0]\n",
    "    \n",
    "    if label_str == \"Hip-Hop\":\n",
    "        return [0, 1, 0, 0, 0, 0]\n",
    "    \n",
    "    if label_str == \"Electronic\":\n",
    "        return [0, 0, 1, 0, 0, 0]\n",
    "    \n",
    "    if label_str == \"Rock\":\n",
    "        return [0, 0, 0, 1, 0, 0]\n",
    "\n",
    "    if label_str == \"Folk\":\n",
    "        return [0, 0, 0, 0, 1, 0]\n",
    "\n",
    "    if label_str == \"Jazz\":\n",
    "        return [0, 0, 0, 0, 0, 1]"
   ]
  },
  {
   "cell_type": "code",
   "execution_count": 104,
   "metadata": {},
   "outputs": [
    {
     "data": {
      "text/plain": [
       "[[0, 0, 1, 0, 0, 0],\n",
       " [0, 0, 0, 0, 0, 1],\n",
       " [0, 0, 0, 0, 0, 1],\n",
       " [0, 1, 0, 0, 0, 0],\n",
       " [0, 1, 0, 0, 0, 0],\n",
       " [0, 0, 1, 0, 0, 0],\n",
       " [0, 0, 0, 0, 0, 1],\n",
       " [0, 0, 0, 0, 0, 1],\n",
       " [0, 0, 0, 1, 0, 0]]"
      ]
     },
     "execution_count": 104,
     "metadata": {},
     "output_type": "execute_result"
    }
   ],
   "source": [
    "results \n",
    "\n",
    "    "
   ]
  },
  {
   "cell_type": "code",
   "execution_count": 100,
   "metadata": {},
   "outputs": [],
   "source": []
  },
  {
   "cell_type": "code",
   "execution_count": 114,
   "metadata": {},
   "outputs": [
    {
     "ename": "ValueError",
     "evalue": "X has 6 features, but LogisticRegression is expecting 7 features as input.",
     "output_type": "error",
     "traceback": [
      "\u001b[0;31m---------------------------------------------------------------------------\u001b[0m",
      "\u001b[0;31mValueError\u001b[0m                                Traceback (most recent call last)",
      "\u001b[1;32m/Users/paolo/Desktop/GeNNus/logistic_regression.ipynb Cella 32\u001b[0m in \u001b[0;36m<cell line: 11>\u001b[0;34m()\u001b[0m\n\u001b[1;32m      <a href='vscode-notebook-cell:/Users/paolo/Desktop/GeNNus/logistic_regression.ipynb#X25sZmlsZQ%3D%3D?line=6'>7</a>\u001b[0m \u001b[39mfor\u001b[39;00m x \u001b[39min\u001b[39;00m label_test\u001b[39m.\u001b[39mvalues:\n\u001b[1;32m      <a href='vscode-notebook-cell:/Users/paolo/Desktop/GeNNus/logistic_regression.ipynb#X25sZmlsZQ%3D%3D?line=7'>8</a>\u001b[0m     lab_test\u001b[39m.\u001b[39mappend(_label_from_str_to_one_hot(x[\u001b[39m0\u001b[39m]))\n\u001b[0;32m---> <a href='vscode-notebook-cell:/Users/paolo/Desktop/GeNNus/logistic_regression.ipynb#X25sZmlsZQ%3D%3D?line=10'>11</a>\u001b[0m Logistic_Accuracy \u001b[39m=\u001b[39m logistic\u001b[39m.\u001b[39;49mscore(  results , lab_test )\n",
      "File \u001b[0;32m~/opt/anaconda3/lib/python3.9/site-packages/sklearn/base.py:651\u001b[0m, in \u001b[0;36mClassifierMixin.score\u001b[0;34m(self, X, y, sample_weight)\u001b[0m\n\u001b[1;32m    626\u001b[0m \u001b[39m\"\"\"\u001b[39;00m\n\u001b[1;32m    627\u001b[0m \u001b[39mReturn the mean accuracy on the given test data and labels.\u001b[39;00m\n\u001b[1;32m    628\u001b[0m \n\u001b[0;32m   (...)\u001b[0m\n\u001b[1;32m    647\u001b[0m \u001b[39m    Mean accuracy of ``self.predict(X)`` wrt. `y`.\u001b[39;00m\n\u001b[1;32m    648\u001b[0m \u001b[39m\"\"\"\u001b[39;00m\n\u001b[1;32m    649\u001b[0m \u001b[39mfrom\u001b[39;00m \u001b[39m.\u001b[39;00m\u001b[39mmetrics\u001b[39;00m \u001b[39mimport\u001b[39;00m accuracy_score\n\u001b[0;32m--> 651\u001b[0m \u001b[39mreturn\u001b[39;00m accuracy_score(y, \u001b[39mself\u001b[39;49m\u001b[39m.\u001b[39;49mpredict(X), sample_weight\u001b[39m=\u001b[39msample_weight)\n",
      "File \u001b[0;32m~/opt/anaconda3/lib/python3.9/site-packages/sklearn/linear_model/_base.py:425\u001b[0m, in \u001b[0;36mLinearClassifierMixin.predict\u001b[0;34m(self, X)\u001b[0m\n\u001b[1;32m    411\u001b[0m \u001b[39mdef\u001b[39;00m \u001b[39mpredict\u001b[39m(\u001b[39mself\u001b[39m, X):\n\u001b[1;32m    412\u001b[0m     \u001b[39m\"\"\"\u001b[39;00m\n\u001b[1;32m    413\u001b[0m \u001b[39m    Predict class labels for samples in X.\u001b[39;00m\n\u001b[1;32m    414\u001b[0m \n\u001b[0;32m   (...)\u001b[0m\n\u001b[1;32m    423\u001b[0m \u001b[39m        Vector containing the class labels for each sample.\u001b[39;00m\n\u001b[1;32m    424\u001b[0m \u001b[39m    \"\"\"\u001b[39;00m\n\u001b[0;32m--> 425\u001b[0m     scores \u001b[39m=\u001b[39m \u001b[39mself\u001b[39;49m\u001b[39m.\u001b[39;49mdecision_function(X)\n\u001b[1;32m    426\u001b[0m     \u001b[39mif\u001b[39;00m \u001b[39mlen\u001b[39m(scores\u001b[39m.\u001b[39mshape) \u001b[39m==\u001b[39m \u001b[39m1\u001b[39m:\n\u001b[1;32m    427\u001b[0m         indices \u001b[39m=\u001b[39m (scores \u001b[39m>\u001b[39m \u001b[39m0\u001b[39m)\u001b[39m.\u001b[39mastype(\u001b[39mint\u001b[39m)\n",
      "File \u001b[0;32m~/opt/anaconda3/lib/python3.9/site-packages/sklearn/linear_model/_base.py:407\u001b[0m, in \u001b[0;36mLinearClassifierMixin.decision_function\u001b[0;34m(self, X)\u001b[0m\n\u001b[1;32m    387\u001b[0m \u001b[39m\"\"\"\u001b[39;00m\n\u001b[1;32m    388\u001b[0m \u001b[39mPredict confidence scores for samples.\u001b[39;00m\n\u001b[1;32m    389\u001b[0m \n\u001b[0;32m   (...)\u001b[0m\n\u001b[1;32m    403\u001b[0m \u001b[39m    this class would be predicted.\u001b[39;00m\n\u001b[1;32m    404\u001b[0m \u001b[39m\"\"\"\u001b[39;00m\n\u001b[1;32m    405\u001b[0m check_is_fitted(\u001b[39mself\u001b[39m)\n\u001b[0;32m--> 407\u001b[0m X \u001b[39m=\u001b[39m \u001b[39mself\u001b[39;49m\u001b[39m.\u001b[39;49m_validate_data(X, accept_sparse\u001b[39m=\u001b[39;49m\u001b[39m\"\u001b[39;49m\u001b[39mcsr\u001b[39;49m\u001b[39m\"\u001b[39;49m, reset\u001b[39m=\u001b[39;49m\u001b[39mFalse\u001b[39;49;00m)\n\u001b[1;32m    408\u001b[0m scores \u001b[39m=\u001b[39m safe_sparse_dot(X, \u001b[39mself\u001b[39m\u001b[39m.\u001b[39mcoef_\u001b[39m.\u001b[39mT, dense_output\u001b[39m=\u001b[39m\u001b[39mTrue\u001b[39;00m) \u001b[39m+\u001b[39m \u001b[39mself\u001b[39m\u001b[39m.\u001b[39mintercept_\n\u001b[1;32m    409\u001b[0m \u001b[39mreturn\u001b[39;00m scores\u001b[39m.\u001b[39mravel() \u001b[39mif\u001b[39;00m scores\u001b[39m.\u001b[39mshape[\u001b[39m1\u001b[39m] \u001b[39m==\u001b[39m \u001b[39m1\u001b[39m \u001b[39melse\u001b[39;00m scores\n",
      "File \u001b[0;32m~/opt/anaconda3/lib/python3.9/site-packages/sklearn/base.py:585\u001b[0m, in \u001b[0;36mBaseEstimator._validate_data\u001b[0;34m(self, X, y, reset, validate_separately, **check_params)\u001b[0m\n\u001b[1;32m    582\u001b[0m     out \u001b[39m=\u001b[39m X, y\n\u001b[1;32m    584\u001b[0m \u001b[39mif\u001b[39;00m \u001b[39mnot\u001b[39;00m no_val_X \u001b[39mand\u001b[39;00m check_params\u001b[39m.\u001b[39mget(\u001b[39m\"\u001b[39m\u001b[39mensure_2d\u001b[39m\u001b[39m\"\u001b[39m, \u001b[39mTrue\u001b[39;00m):\n\u001b[0;32m--> 585\u001b[0m     \u001b[39mself\u001b[39;49m\u001b[39m.\u001b[39;49m_check_n_features(X, reset\u001b[39m=\u001b[39;49mreset)\n\u001b[1;32m    587\u001b[0m \u001b[39mreturn\u001b[39;00m out\n",
      "File \u001b[0;32m~/opt/anaconda3/lib/python3.9/site-packages/sklearn/base.py:400\u001b[0m, in \u001b[0;36mBaseEstimator._check_n_features\u001b[0;34m(self, X, reset)\u001b[0m\n\u001b[1;32m    397\u001b[0m     \u001b[39mreturn\u001b[39;00m\n\u001b[1;32m    399\u001b[0m \u001b[39mif\u001b[39;00m n_features \u001b[39m!=\u001b[39m \u001b[39mself\u001b[39m\u001b[39m.\u001b[39mn_features_in_:\n\u001b[0;32m--> 400\u001b[0m     \u001b[39mraise\u001b[39;00m \u001b[39mValueError\u001b[39;00m(\n\u001b[1;32m    401\u001b[0m         \u001b[39mf\u001b[39m\u001b[39m\"\u001b[39m\u001b[39mX has \u001b[39m\u001b[39m{\u001b[39;00mn_features\u001b[39m}\u001b[39;00m\u001b[39m features, but \u001b[39m\u001b[39m{\u001b[39;00m\u001b[39mself\u001b[39m\u001b[39m.\u001b[39m\u001b[39m__class__\u001b[39m\u001b[39m.\u001b[39m\u001b[39m__name__\u001b[39m\u001b[39m}\u001b[39;00m\u001b[39m \u001b[39m\u001b[39m\"\u001b[39m\n\u001b[1;32m    402\u001b[0m         \u001b[39mf\u001b[39m\u001b[39m\"\u001b[39m\u001b[39mis expecting \u001b[39m\u001b[39m{\u001b[39;00m\u001b[39mself\u001b[39m\u001b[39m.\u001b[39mn_features_in_\u001b[39m}\u001b[39;00m\u001b[39m features as input.\u001b[39m\u001b[39m\"\u001b[39m\n\u001b[1;32m    403\u001b[0m     )\n",
      "\u001b[0;31mValueError\u001b[0m: X has 6 features, but LogisticRegression is expecting 7 features as input."
     ]
    }
   ],
   "source": [
    "\n",
    "LogisticPredictions = logistic.predict( test_dataset_pca )\n",
    "results = []\n",
    "for x in LogisticPredictions:\n",
    "    results.append(_label_from_str_to_one_hot(x))\n",
    "\n",
    "lab_test = []\n",
    "for x in label_test.values:\n",
    "    lab_test.append(_label_from_str_to_one_hot(x[0]))\n",
    "\n",
    "\n",
    "Logistic_Accuracy = logistic.score(  results , lab_test ) "
   ]
  },
  {
   "cell_type": "code",
   "execution_count": 95,
   "metadata": {},
   "outputs": [
    {
     "data": {
      "text/plain": [
       "array(['Electronic', 'Jazz', 'Jazz', 'Hip-Hop', 'Hip-Hop', 'Electronic',\n",
       "       'Jazz', 'Jazz', 'Rock'], dtype=object)"
      ]
     },
     "execution_count": 95,
     "metadata": {},
     "output_type": "execute_result"
    }
   ],
   "source": [
    "LogisticPredictions"
   ]
  },
  {
   "cell_type": "code",
   "execution_count": 72,
   "metadata": {},
   "outputs": [],
   "source": [
    "lab_test = []\n",
    "for x in label_test.values:\n",
    "    lab_test.append(x[0])"
   ]
  },
  {
   "cell_type": "code",
   "execution_count": 75,
   "metadata": {},
   "outputs": [
    {
     "data": {
      "text/plain": [
       "['Rock',\n",
       " 'Pop',\n",
       " 'Pop',\n",
       " 'Hip-Hop',\n",
       " 'Hip-Hop',\n",
       " 'Hip-Hop',\n",
       " 'Hip-Hop',\n",
       " 'Folk',\n",
       " 'Electronic']"
      ]
     },
     "execution_count": 75,
     "metadata": {},
     "output_type": "execute_result"
    }
   ],
   "source": [
    "lab_test"
   ]
  },
  {
   "cell_type": "code",
   "execution_count": 76,
   "metadata": {},
   "outputs": [
    {
     "ename": "ValueError",
     "evalue": "could not convert string to float: 'Electronic'",
     "output_type": "error",
     "traceback": [
      "\u001b[0;31m---------------------------------------------------------------------------\u001b[0m",
      "\u001b[0;31mValueError\u001b[0m                                Traceback (most recent call last)",
      "\u001b[1;32m/Users/paolo/Desktop/GeNNus/logistic_regression.ipynb Cella 29\u001b[0m in \u001b[0;36m<cell line: 2>\u001b[0;34m()\u001b[0m\n\u001b[1;32m      <a href='vscode-notebook-cell:/Users/paolo/Desktop/GeNNus/logistic_regression.ipynb#X26sZmlsZQ%3D%3D?line=0'>1</a>\u001b[0m LogisticPredictions \u001b[39m=\u001b[39m logistic\u001b[39m.\u001b[39mpredict( test_dataset_pca )\n\u001b[0;32m----> <a href='vscode-notebook-cell:/Users/paolo/Desktop/GeNNus/logistic_regression.ipynb#X26sZmlsZQ%3D%3D?line=1'>2</a>\u001b[0m Logistic_Accuracy \u001b[39m=\u001b[39m logistic\u001b[39m.\u001b[39;49mscore(  LogisticPredictions , lab_test )\n",
      "File \u001b[0;32m~/opt/anaconda3/lib/python3.9/site-packages/sklearn/base.py:651\u001b[0m, in \u001b[0;36mClassifierMixin.score\u001b[0;34m(self, X, y, sample_weight)\u001b[0m\n\u001b[1;32m    626\u001b[0m \u001b[39m\"\"\"\u001b[39;00m\n\u001b[1;32m    627\u001b[0m \u001b[39mReturn the mean accuracy on the given test data and labels.\u001b[39;00m\n\u001b[1;32m    628\u001b[0m \n\u001b[0;32m   (...)\u001b[0m\n\u001b[1;32m    647\u001b[0m \u001b[39m    Mean accuracy of ``self.predict(X)`` wrt. `y`.\u001b[39;00m\n\u001b[1;32m    648\u001b[0m \u001b[39m\"\"\"\u001b[39;00m\n\u001b[1;32m    649\u001b[0m \u001b[39mfrom\u001b[39;00m \u001b[39m.\u001b[39;00m\u001b[39mmetrics\u001b[39;00m \u001b[39mimport\u001b[39;00m accuracy_score\n\u001b[0;32m--> 651\u001b[0m \u001b[39mreturn\u001b[39;00m accuracy_score(y, \u001b[39mself\u001b[39;49m\u001b[39m.\u001b[39;49mpredict(X), sample_weight\u001b[39m=\u001b[39msample_weight)\n",
      "File \u001b[0;32m~/opt/anaconda3/lib/python3.9/site-packages/sklearn/linear_model/_base.py:425\u001b[0m, in \u001b[0;36mLinearClassifierMixin.predict\u001b[0;34m(self, X)\u001b[0m\n\u001b[1;32m    411\u001b[0m \u001b[39mdef\u001b[39;00m \u001b[39mpredict\u001b[39m(\u001b[39mself\u001b[39m, X):\n\u001b[1;32m    412\u001b[0m     \u001b[39m\"\"\"\u001b[39;00m\n\u001b[1;32m    413\u001b[0m \u001b[39m    Predict class labels for samples in X.\u001b[39;00m\n\u001b[1;32m    414\u001b[0m \n\u001b[0;32m   (...)\u001b[0m\n\u001b[1;32m    423\u001b[0m \u001b[39m        Vector containing the class labels for each sample.\u001b[39;00m\n\u001b[1;32m    424\u001b[0m \u001b[39m    \"\"\"\u001b[39;00m\n\u001b[0;32m--> 425\u001b[0m     scores \u001b[39m=\u001b[39m \u001b[39mself\u001b[39;49m\u001b[39m.\u001b[39;49mdecision_function(X)\n\u001b[1;32m    426\u001b[0m     \u001b[39mif\u001b[39;00m \u001b[39mlen\u001b[39m(scores\u001b[39m.\u001b[39mshape) \u001b[39m==\u001b[39m \u001b[39m1\u001b[39m:\n\u001b[1;32m    427\u001b[0m         indices \u001b[39m=\u001b[39m (scores \u001b[39m>\u001b[39m \u001b[39m0\u001b[39m)\u001b[39m.\u001b[39mastype(\u001b[39mint\u001b[39m)\n",
      "File \u001b[0;32m~/opt/anaconda3/lib/python3.9/site-packages/sklearn/linear_model/_base.py:407\u001b[0m, in \u001b[0;36mLinearClassifierMixin.decision_function\u001b[0;34m(self, X)\u001b[0m\n\u001b[1;32m    387\u001b[0m \u001b[39m\"\"\"\u001b[39;00m\n\u001b[1;32m    388\u001b[0m \u001b[39mPredict confidence scores for samples.\u001b[39;00m\n\u001b[1;32m    389\u001b[0m \n\u001b[0;32m   (...)\u001b[0m\n\u001b[1;32m    403\u001b[0m \u001b[39m    this class would be predicted.\u001b[39;00m\n\u001b[1;32m    404\u001b[0m \u001b[39m\"\"\"\u001b[39;00m\n\u001b[1;32m    405\u001b[0m check_is_fitted(\u001b[39mself\u001b[39m)\n\u001b[0;32m--> 407\u001b[0m X \u001b[39m=\u001b[39m \u001b[39mself\u001b[39;49m\u001b[39m.\u001b[39;49m_validate_data(X, accept_sparse\u001b[39m=\u001b[39;49m\u001b[39m\"\u001b[39;49m\u001b[39mcsr\u001b[39;49m\u001b[39m\"\u001b[39;49m, reset\u001b[39m=\u001b[39;49m\u001b[39mFalse\u001b[39;49;00m)\n\u001b[1;32m    408\u001b[0m scores \u001b[39m=\u001b[39m safe_sparse_dot(X, \u001b[39mself\u001b[39m\u001b[39m.\u001b[39mcoef_\u001b[39m.\u001b[39mT, dense_output\u001b[39m=\u001b[39m\u001b[39mTrue\u001b[39;00m) \u001b[39m+\u001b[39m \u001b[39mself\u001b[39m\u001b[39m.\u001b[39mintercept_\n\u001b[1;32m    409\u001b[0m \u001b[39mreturn\u001b[39;00m scores\u001b[39m.\u001b[39mravel() \u001b[39mif\u001b[39;00m scores\u001b[39m.\u001b[39mshape[\u001b[39m1\u001b[39m] \u001b[39m==\u001b[39m \u001b[39m1\u001b[39m \u001b[39melse\u001b[39;00m scores\n",
      "File \u001b[0;32m~/opt/anaconda3/lib/python3.9/site-packages/sklearn/base.py:566\u001b[0m, in \u001b[0;36mBaseEstimator._validate_data\u001b[0;34m(self, X, y, reset, validate_separately, **check_params)\u001b[0m\n\u001b[1;32m    564\u001b[0m     \u001b[39mraise\u001b[39;00m \u001b[39mValueError\u001b[39;00m(\u001b[39m\"\u001b[39m\u001b[39mValidation should be done on X, y or both.\u001b[39m\u001b[39m\"\u001b[39m)\n\u001b[1;32m    565\u001b[0m \u001b[39melif\u001b[39;00m \u001b[39mnot\u001b[39;00m no_val_X \u001b[39mand\u001b[39;00m no_val_y:\n\u001b[0;32m--> 566\u001b[0m     X \u001b[39m=\u001b[39m check_array(X, \u001b[39m*\u001b[39;49m\u001b[39m*\u001b[39;49mcheck_params)\n\u001b[1;32m    567\u001b[0m     out \u001b[39m=\u001b[39m X\n\u001b[1;32m    568\u001b[0m \u001b[39melif\u001b[39;00m no_val_X \u001b[39mand\u001b[39;00m \u001b[39mnot\u001b[39;00m no_val_y:\n",
      "File \u001b[0;32m~/opt/anaconda3/lib/python3.9/site-packages/sklearn/utils/validation.py:746\u001b[0m, in \u001b[0;36mcheck_array\u001b[0;34m(array, accept_sparse, accept_large_sparse, dtype, order, copy, force_all_finite, ensure_2d, allow_nd, ensure_min_samples, ensure_min_features, estimator)\u001b[0m\n\u001b[1;32m    744\u001b[0m         array \u001b[39m=\u001b[39m array\u001b[39m.\u001b[39mastype(dtype, casting\u001b[39m=\u001b[39m\u001b[39m\"\u001b[39m\u001b[39munsafe\u001b[39m\u001b[39m\"\u001b[39m, copy\u001b[39m=\u001b[39m\u001b[39mFalse\u001b[39;00m)\n\u001b[1;32m    745\u001b[0m     \u001b[39melse\u001b[39;00m:\n\u001b[0;32m--> 746\u001b[0m         array \u001b[39m=\u001b[39m np\u001b[39m.\u001b[39;49masarray(array, order\u001b[39m=\u001b[39;49morder, dtype\u001b[39m=\u001b[39;49mdtype)\n\u001b[1;32m    747\u001b[0m \u001b[39mexcept\u001b[39;00m ComplexWarning \u001b[39mas\u001b[39;00m complex_warning:\n\u001b[1;32m    748\u001b[0m     \u001b[39mraise\u001b[39;00m \u001b[39mValueError\u001b[39;00m(\n\u001b[1;32m    749\u001b[0m         \u001b[39m\"\u001b[39m\u001b[39mComplex data not supported\u001b[39m\u001b[39m\\n\u001b[39;00m\u001b[39m{}\u001b[39;00m\u001b[39m\\n\u001b[39;00m\u001b[39m\"\u001b[39m\u001b[39m.\u001b[39mformat(array)\n\u001b[1;32m    750\u001b[0m     ) \u001b[39mfrom\u001b[39;00m \u001b[39mcomplex_warning\u001b[39;00m\n",
      "\u001b[0;31mValueError\u001b[0m: could not convert string to float: 'Electronic'"
     ]
    }
   ],
   "source": []
  },
  {
   "cell_type": "code",
   "execution_count": null,
   "metadata": {},
   "outputs": [],
   "source": []
  },
  {
   "cell_type": "code",
   "execution_count": null,
   "metadata": {},
   "outputs": [],
   "source": []
  },
  {
   "cell_type": "code",
   "execution_count": null,
   "metadata": {},
   "outputs": [],
   "source": []
  },
  {
   "cell_type": "code",
   "execution_count": null,
   "metadata": {},
   "outputs": [],
   "source": [
    "Logistic_Accuracy"
   ]
  },
  {
   "cell_type": "code",
   "execution_count": null,
   "metadata": {},
   "outputs": [],
   "source": [
    "from sklearn.metrics import confusion_matrix\n",
    "confusion_matrix( Y_test , LogisticPredictions , labels = None, sample_weight=None, normalize=None)"
   ]
  },
  {
   "cell_type": "code",
   "execution_count": null,
   "metadata": {},
   "outputs": [],
   "source": [
    "from sklearn.model_selection import KFold\n",
    "key_fold = KFold( n_splits=4 ) \n",
    "key_fold.get_n_splits(X_train)"
   ]
  },
  {
   "cell_type": "code",
   "execution_count": null,
   "metadata": {},
   "outputs": [],
   "source": [
    "import pandas as pd\n",
    "df = pd.DataFrame(stacked_single_tensors)\n",
    "X = df.iloc[:,:-1]\n",
    "y = labels\n"
   ]
  },
  {
   "cell_type": "code",
   "execution_count": null,
   "metadata": {},
   "outputs": [],
   "source": [
    "#Importing required libraries\n",
    "from sklearn.datasets import load_breast_cancer\n",
    "import pandas as pd\n",
    "from sklearn.model_selection import KFold \n",
    "from sklearn.linear_model import LogisticRegression\n",
    "from sklearn.metrics import accuracy_score\n",
    "from sklearn import preprocessing\n",
    "from sklearn import utils\n",
    "from tqdm import tqdm\n",
    "set.seed(69)\n",
    "\n",
    "\n",
    "X = df.iloc[:,:-1]\n",
    "\n",
    "#convert y values to categorical values\n",
    "\n",
    "y = pd.DataFrame(labels)\n",
    "\n",
    "#Implementing cross validation\n",
    "\n",
    "k = 3\n",
    "kf = KFold(n_splits=k, random_state= None , shuffle= True )\n",
    "model = LogisticRegression()\n",
    "\n",
    "acc_score = []\n",
    "\n",
    "for train_index , test_index in tqdm( kf.split(X) ):\n",
    "\n",
    "    X_train , X_test = X.iloc[train_index,:],X.iloc[test_index,:]\n",
    "    y_train , y_test = y.iloc[train_index] , y.iloc[test_index]\n",
    "\n",
    "\n",
    "    model.fit(X_train,y_train)\n",
    "    pred_values = model.predict(X_test)\n",
    "\n",
    "    acc = accuracy_score( pred_values , y_test)\n",
    "    acc_score.append(acc)\n",
    "\n",
    "avg_acc_score = sum(acc_score)/k\n"
   ]
  },
  {
   "cell_type": "code",
   "execution_count": null,
   "metadata": {},
   "outputs": [],
   "source": []
  },
  {
   "cell_type": "code",
   "execution_count": null,
   "metadata": {},
   "outputs": [],
   "source": []
  }
 ],
 "metadata": {
  "kernelspec": {
   "display_name": "base",
   "language": "python",
   "name": "python3"
  },
  "language_info": {
   "codemirror_mode": {
    "name": "ipython",
    "version": 3
   },
   "file_extension": ".py",
   "mimetype": "text/x-python",
   "name": "python",
   "nbconvert_exporter": "python",
   "pygments_lexer": "ipython3",
   "version": "3.9.12"
  },
  "orig_nbformat": 4,
  "vscode": {
   "interpreter": {
    "hash": "f4667d31aad76a2fc6367a343b03ad539ee0fdcfaae0637945dddaa0789b3d6c"
   }
  }
 },
 "nbformat": 4,
 "nbformat_minor": 2
}
