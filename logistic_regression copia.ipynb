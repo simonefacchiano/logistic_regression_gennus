{
 "cells": [
  {
   "cell_type": "code",
   "execution_count": null,
   "metadata": {},
   "outputs": [],
   "source": [
    "## GeNNus Simone & Paolo"
   ]
  },
  {
   "cell_type": "code",
   "execution_count": 12,
   "metadata": {},
   "outputs": [],
   "source": [
    "import torch\n",
    "import tqdm\n",
    "import os"
   ]
  },
  {
   "cell_type": "code",
   "execution_count": 17,
   "metadata": {},
   "outputs": [],
   "source": [
    "DATASET_SIZE = \"xs\"\n",
    "DATASET_TYPE = \"waveform\"\n",
    "\n",
    "DATASET_FOLDER = f\"./data/{DATASET_TYPE}\"\n",
    "\n",
    "DATASET_NUM_SAMPLES_PER_SECOND = 8000\n",
    "DATASET_NUM_CHANNELS = 1\n",
    "\n",
    "DATASET_NAME = f\"fma_{DATASET_SIZE}_resampled_{DATASET_NUM_SAMPLES_PER_SECOND}_rechanneled_{DATASET_NUM_CHANNELS}\"\n",
    "\n",
    "dataset_path = f\"{DATASET_FOLDER}/{DATASET_NAME}\""
   ]
  },
  {
   "cell_type": "code",
   "execution_count": 18,
   "metadata": {},
   "outputs": [],
   "source": [
    "audio_path_list = []\n",
    "\n",
    "for path, subdirs, files in os.walk(dataset_path):\n",
    "    for name in files:\n",
    "        file_audio_path = os.path.join(path, name)\n",
    "        #print(file_audio_path)\n",
    "\n",
    "        if name != '.DS_Store':\n",
    "            audio_path_list.append(file_audio_path)\n",
    "\n",
    "# lista di tutti i path     "
   ]
  },
  {
   "cell_type": "code",
   "execution_count": 19,
   "metadata": {},
   "outputs": [
    {
     "data": {
      "text/plain": [
       "['./data/waveform/fma_xs_resampled_8000_rechanneled_1/Hip-Hop/134610.waveform',\n",
       " './data/waveform/fma_xs_resampled_8000_rechanneled_1/Hip-Hop/135753.waveform',\n",
       " './data/waveform/fma_xs_resampled_8000_rechanneled_1/Hip-Hop/134509.waveform',\n",
       " './data/waveform/fma_xs_resampled_8000_rechanneled_1/Hip-Hop/134322.waveform',\n",
       " './data/waveform/fma_xs_resampled_8000_rechanneled_1/Hip-Hop/134826.waveform',\n",
       " './data/waveform/fma_xs_resampled_8000_rechanneled_1/Hip-Hop/134827.waveform',\n",
       " './data/waveform/fma_xs_resampled_8000_rechanneled_1/Hip-Hop/135748.waveform',\n",
       " './data/waveform/fma_xs_resampled_8000_rechanneled_1/Hip-Hop/135749.waveform',\n",
       " './data/waveform/fma_xs_resampled_8000_rechanneled_1/Hip-Hop/134822.waveform',\n",
       " './data/waveform/fma_xs_resampled_8000_rechanneled_1/Hip-Hop/134823.waveform',\n",
       " './data/waveform/fma_xs_resampled_8000_rechanneled_1/Hip-Hop/135751.waveform',\n",
       " './data/waveform/fma_xs_resampled_8000_rechanneled_1/Hip-Hop/135750.waveform',\n",
       " './data/waveform/fma_xs_resampled_8000_rechanneled_1/Hip-Hop/134825.waveform',\n",
       " './data/waveform/fma_xs_resampled_8000_rechanneled_1/Hip-Hop/134824.waveform',\n",
       " './data/waveform/fma_xs_resampled_8000_rechanneled_1/Hip-Hop/134510.waveform',\n",
       " './data/waveform/fma_xs_resampled_8000_rechanneled_1/Pop/070326.waveform',\n",
       " './data/waveform/fma_xs_resampled_8000_rechanneled_1/Pop/070327.waveform',\n",
       " './data/waveform/fma_xs_resampled_8000_rechanneled_1/Pop/070318.waveform',\n",
       " './data/waveform/fma_xs_resampled_8000_rechanneled_1/Pop/070319.waveform',\n",
       " './data/waveform/fma_xs_resampled_8000_rechanneled_1/Pop/070315.waveform',\n",
       " './data/waveform/fma_xs_resampled_8000_rechanneled_1/Pop/070314.waveform',\n",
       " './data/waveform/fma_xs_resampled_8000_rechanneled_1/Pop/070321.waveform',\n",
       " './data/waveform/fma_xs_resampled_8000_rechanneled_1/Pop/070320.waveform',\n",
       " './data/waveform/fma_xs_resampled_8000_rechanneled_1/Pop/070325.waveform',\n",
       " './data/waveform/fma_xs_resampled_8000_rechanneled_1/Pop/070324.waveform',\n",
       " './data/waveform/fma_xs_resampled_8000_rechanneled_1/Pop/070322.waveform',\n",
       " './data/waveform/fma_xs_resampled_8000_rechanneled_1/Pop/070323.waveform',\n",
       " './data/waveform/fma_xs_resampled_8000_rechanneled_1/Pop/070328.waveform',\n",
       " './data/waveform/fma_xs_resampled_8000_rechanneled_1/Pop/070316.waveform',\n",
       " './data/waveform/fma_xs_resampled_8000_rechanneled_1/Pop/070317.waveform',\n",
       " './data/waveform/fma_xs_resampled_8000_rechanneled_1/Electronic/031066.waveform',\n",
       " './data/waveform/fma_xs_resampled_8000_rechanneled_1/Electronic/031067.waveform',\n",
       " './data/waveform/fma_xs_resampled_8000_rechanneled_1/Electronic/031094.waveform',\n",
       " './data/waveform/fma_xs_resampled_8000_rechanneled_1/Electronic/031095.waveform',\n",
       " './data/waveform/fma_xs_resampled_8000_rechanneled_1/Electronic/031093.waveform',\n",
       " './data/waveform/fma_xs_resampled_8000_rechanneled_1/Electronic/031092.waveform',\n",
       " './data/waveform/fma_xs_resampled_8000_rechanneled_1/Electronic/031099.waveform',\n",
       " './data/waveform/fma_xs_resampled_8000_rechanneled_1/Electronic/031098.waveform',\n",
       " './data/waveform/fma_xs_resampled_8000_rechanneled_1/Electronic/031097.waveform',\n",
       " './data/waveform/fma_xs_resampled_8000_rechanneled_1/Electronic/031096.waveform',\n",
       " './data/waveform/fma_xs_resampled_8000_rechanneled_1/Electronic/031065.waveform',\n",
       " './data/waveform/fma_xs_resampled_8000_rechanneled_1/Electronic/031068.waveform',\n",
       " './data/waveform/fma_xs_resampled_8000_rechanneled_1/Electronic/031123.waveform',\n",
       " './data/waveform/fma_xs_resampled_8000_rechanneled_1/Electronic/031101.waveform',\n",
       " './data/waveform/fma_xs_resampled_8000_rechanneled_1/Electronic/031091.waveform',\n",
       " './data/waveform/fma_xs_resampled_8000_rechanneled_1/Rock/021082.waveform',\n",
       " './data/waveform/fma_xs_resampled_8000_rechanneled_1/Rock/021187.waveform',\n",
       " './data/waveform/fma_xs_resampled_8000_rechanneled_1/Rock/021186.waveform',\n",
       " './data/waveform/fma_xs_resampled_8000_rechanneled_1/Rock/021077.waveform',\n",
       " './data/waveform/fma_xs_resampled_8000_rechanneled_1/Rock/021076.waveform',\n",
       " './data/waveform/fma_xs_resampled_8000_rechanneled_1/Rock/021081.waveform',\n",
       " './data/waveform/fma_xs_resampled_8000_rechanneled_1/Rock/021080.waveform',\n",
       " './data/waveform/fma_xs_resampled_8000_rechanneled_1/Rock/021188.waveform',\n",
       " './data/waveform/fma_xs_resampled_8000_rechanneled_1/Rock/021079.waveform',\n",
       " './data/waveform/fma_xs_resampled_8000_rechanneled_1/Rock/021078.waveform',\n",
       " './data/waveform/fma_xs_resampled_8000_rechanneled_1/Rock/021073.waveform',\n",
       " './data/waveform/fma_xs_resampled_8000_rechanneled_1/Rock/021074.waveform',\n",
       " './data/waveform/fma_xs_resampled_8000_rechanneled_1/Rock/021075.waveform',\n",
       " './data/waveform/fma_xs_resampled_8000_rechanneled_1/Rock/021184.waveform',\n",
       " './data/waveform/fma_xs_resampled_8000_rechanneled_1/Rock/021185.waveform',\n",
       " './data/waveform/fma_xs_resampled_8000_rechanneled_1/Folk/106802.waveform',\n",
       " './data/waveform/fma_xs_resampled_8000_rechanneled_1/Folk/106803.waveform',\n",
       " './data/waveform/fma_xs_resampled_8000_rechanneled_1/Folk/106808.waveform',\n",
       " './data/waveform/fma_xs_resampled_8000_rechanneled_1/Folk/106809.waveform',\n",
       " './data/waveform/fma_xs_resampled_8000_rechanneled_1/Folk/106689.waveform',\n",
       " './data/waveform/fma_xs_resampled_8000_rechanneled_1/Folk/106688.waveform',\n",
       " './data/waveform/fma_xs_resampled_8000_rechanneled_1/Folk/106812.waveform',\n",
       " './data/waveform/fma_xs_resampled_8000_rechanneled_1/Folk/106813.waveform',\n",
       " './data/waveform/fma_xs_resampled_8000_rechanneled_1/Folk/106804.waveform',\n",
       " './data/waveform/fma_xs_resampled_8000_rechanneled_1/Folk/106800.waveform',\n",
       " './data/waveform/fma_xs_resampled_8000_rechanneled_1/Folk/106806.waveform',\n",
       " './data/waveform/fma_xs_resampled_8000_rechanneled_1/Folk/106807.waveform',\n",
       " './data/waveform/fma_xs_resampled_8000_rechanneled_1/Folk/106811.waveform',\n",
       " './data/waveform/fma_xs_resampled_8000_rechanneled_1/Folk/106810.waveform',\n",
       " './data/waveform/fma_xs_resampled_8000_rechanneled_1/Folk/106690.waveform',\n",
       " './data/waveform/fma_xs_resampled_8000_rechanneled_1/Jazz/155121.waveform',\n",
       " './data/waveform/fma_xs_resampled_8000_rechanneled_1/Jazz/155127.waveform',\n",
       " './data/waveform/fma_xs_resampled_8000_rechanneled_1/Jazz/155126.waveform',\n",
       " './data/waveform/fma_xs_resampled_8000_rechanneled_1/Jazz/155181.waveform',\n",
       " './data/waveform/fma_xs_resampled_8000_rechanneled_1/Jazz/155180.waveform',\n",
       " './data/waveform/fma_xs_resampled_8000_rechanneled_1/Jazz/155179.waveform',\n",
       " './data/waveform/fma_xs_resampled_8000_rechanneled_1/Jazz/155178.waveform',\n",
       " './data/waveform/fma_xs_resampled_8000_rechanneled_1/Jazz/154911.waveform',\n",
       " './data/waveform/fma_xs_resampled_8000_rechanneled_1/Jazz/155129.waveform',\n",
       " './data/waveform/fma_xs_resampled_8000_rechanneled_1/Jazz/155128.waveform',\n",
       " './data/waveform/fma_xs_resampled_8000_rechanneled_1/Jazz/155123.waveform',\n",
       " './data/waveform/fma_xs_resampled_8000_rechanneled_1/Jazz/155122.waveform',\n",
       " './data/waveform/fma_xs_resampled_8000_rechanneled_1/Jazz/155176.waveform',\n",
       " './data/waveform/fma_xs_resampled_8000_rechanneled_1/Jazz/155124.waveform',\n",
       " './data/waveform/fma_xs_resampled_8000_rechanneled_1/Jazz/155125.waveform']"
      ]
     },
     "execution_count": 19,
     "metadata": {},
     "output_type": "execute_result"
    }
   ],
   "source": [
    "audio_path_list"
   ]
  },
  {
   "cell_type": "code",
   "execution_count": 33,
   "metadata": {},
   "outputs": [
    {
     "data": {
      "text/plain": [
       "['Hip-Hop',\n",
       " 'Hip-Hop',\n",
       " 'Hip-Hop',\n",
       " 'Hip-Hop',\n",
       " 'Hip-Hop',\n",
       " 'Hip-Hop',\n",
       " 'Hip-Hop',\n",
       " 'Hip-Hop',\n",
       " 'Hip-Hop',\n",
       " 'Hip-Hop',\n",
       " 'Hip-Hop',\n",
       " 'Hip-Hop',\n",
       " 'Hip-Hop',\n",
       " 'Hip-Hop',\n",
       " 'Hip-Hop',\n",
       " 'Pop',\n",
       " 'Pop',\n",
       " 'Pop',\n",
       " 'Pop',\n",
       " 'Pop',\n",
       " 'Pop',\n",
       " 'Pop',\n",
       " 'Pop',\n",
       " 'Pop',\n",
       " 'Pop',\n",
       " 'Pop',\n",
       " 'Pop',\n",
       " 'Pop',\n",
       " 'Pop',\n",
       " 'Pop',\n",
       " 'Electronic',\n",
       " 'Electronic',\n",
       " 'Electronic',\n",
       " 'Electronic',\n",
       " 'Electronic',\n",
       " 'Electronic',\n",
       " 'Electronic',\n",
       " 'Electronic',\n",
       " 'Electronic',\n",
       " 'Electronic',\n",
       " 'Electronic',\n",
       " 'Electronic',\n",
       " 'Electronic',\n",
       " 'Electronic',\n",
       " 'Electronic',\n",
       " 'Rock',\n",
       " 'Rock',\n",
       " 'Rock',\n",
       " 'Rock',\n",
       " 'Rock',\n",
       " 'Rock',\n",
       " 'Rock',\n",
       " 'Rock',\n",
       " 'Rock',\n",
       " 'Rock',\n",
       " 'Rock',\n",
       " 'Rock',\n",
       " 'Rock',\n",
       " 'Rock',\n",
       " 'Rock',\n",
       " 'Folk',\n",
       " 'Folk',\n",
       " 'Folk',\n",
       " 'Folk',\n",
       " 'Folk',\n",
       " 'Folk',\n",
       " 'Folk',\n",
       " 'Folk',\n",
       " 'Folk',\n",
       " 'Folk',\n",
       " 'Folk',\n",
       " 'Folk',\n",
       " 'Folk',\n",
       " 'Folk',\n",
       " 'Folk',\n",
       " 'Jazz',\n",
       " 'Jazz',\n",
       " 'Jazz',\n",
       " 'Jazz',\n",
       " 'Jazz',\n",
       " 'Jazz',\n",
       " 'Jazz',\n",
       " 'Jazz',\n",
       " 'Jazz',\n",
       " 'Jazz',\n",
       " 'Jazz',\n",
       " 'Jazz',\n",
       " 'Jazz',\n",
       " 'Jazz',\n",
       " 'Jazz']"
      ]
     },
     "execution_count": 33,
     "metadata": {},
     "output_type": "execute_result"
    }
   ],
   "source": [
    "single_tensors = []\n",
    "labels = []\n",
    "\n",
    "for p in audio_path_list:\n",
    "    single_tensors.append(torch.load(p))\n",
    "    #print(p)\n",
    "    labels.append(p.split(\"/\")[-2])\n",
    "\n",
    "single_tensors # --> waveforms\n",
    "labels # --> etichette"
   ]
  },
  {
   "cell_type": "code",
   "execution_count": 23,
   "metadata": {},
   "outputs": [],
   "source": [
    "import numpy as np"
   ]
  },
  {
   "cell_type": "code",
   "execution_count": 31,
   "metadata": {},
   "outputs": [
    {
     "data": {
      "text/plain": [
       "(238000,)"
      ]
     },
     "execution_count": 31,
     "metadata": {},
     "output_type": "execute_result"
    }
   ],
   "source": [
    "stacked_single_tensors = torch.cat(single_tensors).numpy()\n",
    "#stacked_single_tensors.shape\n",
    "\n",
    "stacked_single_tensors[0].shape"
   ]
  },
  {
   "cell_type": "code",
   "execution_count": 39,
   "metadata": {},
   "outputs": [
    {
     "name": "stdout",
     "output_type": "stream",
     "text": [
      "X_train : \n",
      "[tensor([[-0.0005,  0.0002,  0.0001,  ...,  0.0081,  0.0013,  0.0153]]), tensor([[ 0.0020,  0.0016,  0.0013,  ..., -0.1487, -0.1723, -0.2342]]), tensor([[ 4.8477e-05, -1.7032e-04, -1.5816e-04,  ..., -1.7108e-03,\n",
      "         -5.0606e-03, -5.6286e-03]])]\n",
      "\n",
      "X_test : \n",
      "[tensor([[ 0.0061,  0.0018, -0.0047,  ...,  0.3302,  0.1208,  0.1525]]), tensor([[ 0.0032,  0.0020,  0.0026,  ..., -0.1478, -0.0981, -0.0187]]), tensor([[-3.9403e-05, -6.3481e-05, -6.3916e-05,  ..., -5.8177e-03,\n",
      "         -1.8060e-03, -4.7285e-03]])]\n",
      "\n",
      "y_train : \n",
      "['Folk', 'Folk', 'Folk', 'Jazz', 'Electronic', 'Electronic', 'Hip-Hop', 'Folk', 'Folk']\n",
      "\n",
      "y_test : \n",
      "['Pop', 'Rock', 'Folk', 'Hip-Hop', 'Pop', 'Electronic', 'Folk', 'Hip-Hop', 'Electronic']\n"
     ]
    }
   ],
   "source": [
    "# Train & Test\n",
    "\n",
    "from sklearn.model_selection import train_test_split\n",
    "X_train, X_test, Y_train, Y_test = train_test_split(single_tensors, labels, test_size=0.2, random_state=42)\n",
    "\n",
    "print('X_train : ')\n",
    "print(X_train[1:4])\n",
    "print('')\n",
    "print('X_test : ')\n",
    "print(X_test[1:4])\n",
    "print('')\n",
    "print('y_train : ')\n",
    "print(Y_train[1:4])\n",
    "print('')\n",
    "print('y_test : ')\n",
    "print(Y_test[1:4])"
   ]
  },
  {
   "cell_type": "code",
   "execution_count": null,
   "metadata": {},
   "outputs": [],
   "source": []
  }
 ],
 "metadata": {
  "kernelspec": {
   "display_name": "Python 3.9.12 ('base')",
   "language": "python",
   "name": "python3"
  },
  "language_info": {
   "codemirror_mode": {
    "name": "ipython",
    "version": 3
   },
   "file_extension": ".py",
   "mimetype": "text/x-python",
   "name": "python",
   "nbconvert_exporter": "python",
   "pygments_lexer": "ipython3",
   "version": "3.9.12"
  },
  "orig_nbformat": 4,
  "vscode": {
   "interpreter": {
    "hash": "8922abe8a2f354f864dd8097bc99cbc9988d6260d5a3250d7fc0c8c4274840cd"
   }
  }
 },
 "nbformat": 4,
 "nbformat_minor": 2
}
